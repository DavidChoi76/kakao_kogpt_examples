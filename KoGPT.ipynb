{
 "cells": [
  {
   "cell_type": "code",
   "execution_count": 1,
   "id": "50d3e4e0",
   "metadata": {},
   "outputs": [],
   "source": [
    "# coding=utf8\n",
    "# REST API 호출에 필요한 라이브러리\n",
    "import requests\n",
    "import json\n",
    "\n",
    "# [내 애플리케이션] > [앱 키] 에서 확인한 REST API 키 값 입력\n",
    "REST_API_KEY = 'e4015976e6cad4d1d9be35a39af22ac7'\n",
    "\n",
    "# KoGPT API 호출을 위한 메서드 선언\n",
    "# 각 파라미터 기본값으로 설정\n",
    "def kogpt_api(prompt, max_tokens = 1, temperature = 1.0, top_p = 1.0, n = 1):\n",
    "    r = requests.post(\n",
    "        'https://api.kakaobrain.com/v1/inference/kogpt/generation',\n",
    "        json = {\n",
    "            'prompt': prompt,\n",
    "            'max_tokens': max_tokens,\n",
    "            'temperature': temperature,\n",
    "            'top_p': top_p,\n",
    "            'n': n\n",
    "        },\n",
    "        headers = {\n",
    "            'Authorization': 'KakaoAK ' + REST_API_KEY,\n",
    "            'Content-Type': 'application/json'\n",
    "        }\n",
    "    )\n",
    "    # 응답 JSON 형식으로 변환\n",
    "    response = json.loads(r.content)\n",
    "    return response"
   ]
  },
  {
   "cell_type": "code",
   "execution_count": 2,
   "id": "a955cba5",
   "metadata": {},
   "outputs": [
    {
     "data": {
      "text/plain": [
       "{'id': '56ba8d16-c7d5-4755-a3d1-6ae5d09f49fe',\n",
       " 'generations': [{'text': ' Ara-Khua라는 내 고양이. 그밖에 많다. Lumbay라는 비너스의 가슴에서 태어난게 남동생인지 형인지 모르겠다. 유근무본이 너무 많아 무엇이 진짜인지 솔직히 모른다. 그걸 결심할수 없었기에. 처음에는 일어서는 것조차 망설였지만. 믿을만한 부모님 덕분에 간신히 일어설 수 있 었지. 계속 신경쓰자 사흘도 안돼서 걷기 시작하더니 밤마다 차를 몰고 파트너에게 달려 가길 수십번, 마침내 휙하고 창밖을 보곤했어. 놀라웠지, 좋냐니까 아니라고해. 모르겠 어? 한 30분 뒤 또 좋냐고 하길래 기다려. 아마 긍정적으로 답할지 어 떨지 생각중이야. 아내와 둘이 여행을 자주간다. 거의다 오스트리아다. 우리 동행자와 2주 여 독차지하기도 했다..아내가 어디 다닐래하면 아무말없이 돌아나가기도한다(매번 기름값만 1유로',\n",
       "   'tokens': 200},\n",
       "  {'text': ' 나는 불꽃 천사, 네바돈 우주연합의 대변인이다. \\u200b* 해설 이것은 전체적으로 뜻밖이고 처음에는 당황스럽다고 느껴질 수도 있다. 하지만 통합된 모든 것들 속에서 당신을 찾으려면, 잠시 기다려라! 우리 미래 위원회(the future board)는 인터넷과 상호 작용할 수 있도록 설계를 진전시키기 위해 시간 및 공간 계열의 등록부에 서명하고 힘을 주기로 결정했습니다. 다행스러운 일이지만 이런 원대한 프로젝트 때문에 여러 신비가(Shared mystery codes)와 내부의 암호화 소프트웨어를 대거 공개하게 되었습니다. 700명이 넘는 보다 노련한 마법사들이 우리에게 원기 왕성하며 매력적인 개념인 현실과의 결합(hybrid technology built on reality), 여행 가능하지만 급증되지 않는다 (여행 가기에 배우기가 어렵다는 의미도 됩니다만, 여정 자체의 양은 돌아오면서 증가합니다).웹 세계 안에서 사람들의 실제 외모는',\n",
       "   'tokens': 200},\n",
       "  {'text': \" 이 퀴즈 뜻 '영어의 헬프 -> OPIC의 Open'을 응용하여 보세요. 힌트1) 당신이 이전에 방문한 지역인데 새로운 친인척 거주지를 찾았다면 MUNE 사이트로 가셔서 Follow Us 클릭하면 됩니다 정답되찾기힌트2) 이웃전 60일간 이벤트 기간이니 아님 모든 분들에게 공짜말고 포인트파크 말도 괜찮으 것 같아요~~ 무료 50포인트 지금가볼래요... 포인트 기업에서 운영하는 쇼핑몰에선 꽝이란 없다! My CJ몰 포인트 어때요 내 아이디 한줄 바꾸려고 숙제좀 대신 입력해 주세요.. cdaycomey01 친추합시다^^ 걍 나 그냥 법구경만 쓴건데 플랭크 춤 시전함 (운동안했음) 만명넘어감 ᄏ 여자친구와 만나면 다 애기씩 해줘서 주절주절 저번 오늘부터 2인극 {블러드넘버} 셤 4일차지만 사람많아서 도키도가니링 \\u200b 블르원 부록\",\n",
       "   'tokens': 200}],\n",
       " 'usage': {'prompt_tokens': 27, 'generated_tokens': 600, 'total_tokens': 627}}"
      ]
     },
     "execution_count": 2,
     "metadata": {},
     "output_type": "execute_result"
    }
   ],
   "source": [
    "# KoGPT에게 전달할 명령어 구성\n",
    "prompt = 'Q: 당신의 이름은 무엇인가요?'   #'''한국대통령은 누구입니끼?'''\n",
    "\n",
    "# 파라미터를 전달해 kogpt_api()메서드 호출\n",
    "response = kogpt_api(\n",
    "    prompt = prompt,\n",
    "    max_tokens = 200,\n",
    "    temperature = 1.0,\n",
    "    top_p = 1.0,\n",
    "    n = 3\n",
    ")\n",
    "\n",
    "response"
   ]
  },
  {
   "cell_type": "code",
   "execution_count": null,
   "id": "cd0eef9d",
   "metadata": {},
   "outputs": [],
   "source": []
  }
 ],
 "metadata": {
  "kernelspec": {
   "display_name": "Python 3 (ipykernel)",
   "language": "python",
   "name": "python3"
  },
  "language_info": {
   "codemirror_mode": {
    "name": "ipython",
    "version": 3
   },
   "file_extension": ".py",
   "mimetype": "text/x-python",
   "name": "python",
   "nbconvert_exporter": "python",
   "pygments_lexer": "ipython3",
   "version": "3.9.12"
  }
 },
 "nbformat": 4,
 "nbformat_minor": 5
}
